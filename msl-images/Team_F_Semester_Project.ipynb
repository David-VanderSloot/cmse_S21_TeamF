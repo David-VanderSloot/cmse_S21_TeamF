{
 "cells": [
  {
   "cell_type": "markdown",
   "metadata": {},
   "source": [
    "# Team F Semester Project"
   ]
  },
  {
   "cell_type": "markdown",
   "metadata": {},
   "source": [
    "This will be a description of project."
   ]
  },
  {
   "cell_type": "code",
   "execution_count": 7,
   "metadata": {},
   "outputs": [],
   "source": [
    "%matplotlib inline                 \n",
    "import matplotlib.pyplot as plt\n",
    "import numpy as np\n",
    "import math\n",
    "import pandas as pd\n",
    "from sklearn.model_selection import train_test_split\n",
    "from sklearn.model_selection import GridSearchCV\n",
    "from sklearn import svm\n",
    "from sklearn.svm import SVC\n",
    "from glob import glob\n",
    "import os\n",
    "from PIL import Image\n",
    "from skimage import io\n",
    "import scipy"
   ]
  },
  {
   "cell_type": "code",
   "execution_count": 3,
   "metadata": {},
   "outputs": [],
   "source": [
    "labels_test = pd.read_csv('test-calibrated-shuffled.txt',delimiter = ' ',header = None, names = ['filename','label'])\n",
    "labels_train = pd.read_csv('train-calibrated-shuffled.txt',delimiter = ' ',header = None, names = ['filename','label'])\n",
    "\n",
    "labels = labels_test.append(labels_train)\n",
    "df = labels[labels['label']==8]\n",
    "df = df.append(labels[labels['label']==9])"
   ]
  },
  {
   "cell_type": "code",
   "execution_count": 10,
   "metadata": {},
   "outputs": [],
   "source": [
    "img_test = []\n",
    "for f_name in df[\"filename\"]:\n",
    "    img = Image.open(f_name)\n",
    "    img = img.convert('L')\n",
    "    img_arr = np.array(img)\n",
    "    \n",
    "    flat_arr = img_arr.ravel()\n",
    "    vector = np.matrix(flat_arr)\n",
    "    \n",
    "    img_test.append(vector)"
   ]
  },
  {
   "cell_type": "code",
   "execution_count": null,
   "metadata": {},
   "outputs": [],
   "source": [
    "    param_grid = {'C': [1e3, 5e3, 1e4],\n",
    "                  'gamma': [0.0001, 0.0005, 0.001, 0.005, 0.01]}\n",
    "    clf = GridSearchCV(SVC(kernel='linear', class_weight='balanced'), param_grid, n_jobs=-1)\n",
    "    clf = clf.fit(img_test, labels_test)\n",
    "    print(clf.best_estimator_)"
   ]
  },
  {
   "cell_type": "code",
   "execution_count": null,
   "metadata": {},
   "outputs": [],
   "source": []
  }
 ],
 "metadata": {
  "kernelspec": {
   "display_name": "Python 3",
   "language": "python",
   "name": "python3"
  },
  "language_info": {
   "codemirror_mode": {
    "name": "ipython",
    "version": 3
   },
   "file_extension": ".py",
   "mimetype": "text/x-python",
   "name": "python",
   "nbconvert_exporter": "python",
   "pygments_lexer": "ipython3",
   "version": "3.8.3"
  }
 },
 "nbformat": 4,
 "nbformat_minor": 4
}
