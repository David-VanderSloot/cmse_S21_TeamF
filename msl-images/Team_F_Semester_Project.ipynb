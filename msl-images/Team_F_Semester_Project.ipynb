{
 "cells": [
  {
   "cell_type": "markdown",
   "metadata": {},
   "source": [
    "# Team F Semester Project"
   ]
  },
  {
   "cell_type": "markdown",
   "metadata": {},
   "source": [
    "This will be a description of project."
   ]
  },
  {
   "cell_type": "code",
   "execution_count": 1,
   "metadata": {},
   "outputs": [],
   "source": [
    "%matplotlib inline                 \n",
    "import matplotlib.pyplot as plt\n",
    "import numpy as np\n",
    "import math\n",
    "import pandas as pd\n",
    "from sklearn.model_selection import train_test_split\n",
    "from sklearn.model_selection import GridSearchCV\n",
    "from sklearn.metrics import classification_report\n",
    "from sklearn.metrics import confusion_matrix\n",
    "from sklearn import svm\n",
    "from sklearn.svm import SVC\n",
    "from glob import glob\n",
    "import os\n",
    "from PIL import Image\n",
    "from skimage import io\n",
    "import scipy"
   ]
  },
  {
   "cell_type": "code",
   "execution_count": 2,
   "metadata": {},
   "outputs": [],
   "source": [
    "labels_test = pd.read_csv('test-calibrated-shuffled.txt',delimiter = ' ',header = None, names = ['filename','label'])\n",
    "labels_train = pd.read_csv('train-calibrated-shuffled.txt',delimiter = ' ',header = None, names = ['filename','label'])\n",
    "\n",
    "labels = labels_test.append(labels_train)\n",
    "df = labels[labels['label']==8]\n",
    "df = df.append(labels[labels['label']==9])"
   ]
  },
  {
   "cell_type": "code",
   "execution_count": 3,
   "metadata": {},
   "outputs": [],
   "source": [
    "labels_test = labels_test[(labels_test.label == 8) | (labels_test.label == 9)]\n",
    "labels_train = labels_train[(labels_train.label == 8) |  (labels_train.label == 9)]\n"
   ]
  },
  {
   "cell_type": "code",
   "execution_count": 4,
   "metadata": {},
   "outputs": [],
   "source": [
    "def img_to_vec(df):\n",
    "    img_test = []\n",
    "    for f_name in df[\"filename\"]:\n",
    "        img = Image.open(f_name)\n",
    "        img = img.convert('L')\n",
    "        img_arr = np.array(img)\n",
    "    \n",
    "        img_arr = img_arr[:121, :255]\n",
    "        \n",
    "        flat_arr = img_arr.flatten()\n",
    "    \n",
    "        img_test.append(flat_arr)\n",
    "    img_test = np.array(img_test)\n",
    "    return img_test"
   ]
  },
  {
   "cell_type": "code",
   "execution_count": 5,
   "metadata": {},
   "outputs": [],
   "source": [
    "train_labels = labels_train['label']\n",
    "test_labels = labels_test['label']\n",
    "\n",
    "test_vectors = img_to_vec(labels_test)"
   ]
  },
  {
   "cell_type": "code",
   "execution_count": 8,
   "metadata": {
    "scrolled": false
   },
   "outputs": [
    {
     "data": {
      "text/plain": [
       "(array([[201, 171, 149, ..., 146, 136, 145],\n",
       "        [ 58,  38,  35, ..., 115,  89,  90],\n",
       "        [140,  94,  76, ..., 152, 116,  49],\n",
       "        ...,\n",
       "        [145,  91,  87, ...,  84,  91,  43],\n",
       "        [116, 117, 118, ..., 142, 143, 143],\n",
       "        [ 54,  33,  61, ..., 131, 134, 135]], dtype=uint8),\n",
       " 2567)"
      ]
     },
     "execution_count": 8,
     "metadata": {},
     "output_type": "execute_result"
    }
   ],
   "source": [
    "train_vectors = img_to_vec(labels_train)\n",
    "train_vectors,len(train_labels)"
   ]
  },
  {
   "cell_type": "code",
   "execution_count": 28,
   "metadata": {},
   "outputs": [
    {
     "data": {
      "text/plain": [
       "SVC(C=100)"
      ]
     },
     "execution_count": 28,
     "metadata": {},
     "output_type": "execute_result"
    }
   ],
   "source": [
    "clf = svm.SVC(kernel=\"rbf\", C=100)  # best params I was able to find manually\n",
    "clf.fit(train_vectors, train_labels)"
   ]
  },
  {
   "cell_type": "code",
   "execution_count": 29,
   "metadata": {},
   "outputs": [],
   "source": [
    "predicted_labels = clf.predict(test_vectors)"
   ]
  },
  {
   "cell_type": "code",
   "execution_count": 30,
   "metadata": {},
   "outputs": [
    {
     "name": "stdout",
     "output_type": "stream",
     "text": [
      "              precision    recall  f1-score   support\n",
      "\n",
      "           8       0.84      0.99      0.91       254\n",
      "           9       0.89      0.33      0.48        72\n",
      "\n",
      "    accuracy                           0.84       326\n",
      "   macro avg       0.86      0.66      0.70       326\n",
      "weighted avg       0.85      0.84      0.81       326\n",
      "\n",
      "[[251   3]\n",
      " [ 48  24]]\n"
     ]
    }
   ],
   "source": [
    "print(classification_report(test_labels, predicted_labels))\n",
    "print(confusion_matrix(test_labels, predicted_labels))"
   ]
  },
  {
   "cell_type": "code",
   "execution_count": 21,
   "metadata": {},
   "outputs": [
    {
     "name": "stdout",
     "output_type": "stream",
     "text": [
      "Best estimator:\n",
      "SVC(C=10, class_weight='balanced', gamma=0.1, kernel='linear')\n"
     ]
    }
   ],
   "source": [
    "# this takes very long, haven't been able to finish - Aaron\n",
    "C = [10]\n",
    "gamma = [0.1]\n",
    "\n",
    "param_grid = {'C':C, 'gamma':gamma, 'kernel': ['linear','rbf']}\n",
    "\n",
    "clf = GridSearchCV(svm.SVC(class_weight='balanced'), param_grid)\n",
    "clf = clf.fit(train_vectors,train_labels)\n",
    "\n",
    "print('Best estimator:')\n",
    "print(clf.best_estimator_)"
   ]
  },
  {
   "cell_type": "code",
   "execution_count": null,
   "metadata": {},
   "outputs": [],
   "source": []
  }
 ],
 "metadata": {
  "kernelspec": {
   "display_name": "Python 3",
   "language": "python",
   "name": "python3"
  },
  "language_info": {
   "codemirror_mode": {
    "name": "ipython",
    "version": 3
   },
   "file_extension": ".py",
   "mimetype": "text/x-python",
   "name": "python",
   "nbconvert_exporter": "python",
   "pygments_lexer": "ipython3",
   "version": "3.8.3"
  }
 },
 "nbformat": 4,
 "nbformat_minor": 4
}
