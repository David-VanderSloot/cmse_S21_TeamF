{
 "cells": [
  {
   "cell_type": "markdown",
   "metadata": {},
   "source": [
    "# Team F Semester Project"
   ]
  },
  {
   "cell_type": "markdown",
   "metadata": {},
   "source": [
    "This will be a description of project."
   ]
  },
  {
   "cell_type": "code",
   "execution_count": 129,
   "metadata": {},
   "outputs": [],
   "source": [
    "%matplotlib inline                 \n",
    "import matplotlib.pyplot as plt\n",
    "import numpy as np\n",
    "import math\n",
    "import pandas as pd\n",
    "from sklearn.model_selection import train_test_split\n",
    "from sklearn.model_selection import GridSearchCV\n",
    "from sklearn.metrics import classification_report\n",
    "from sklearn.metrics import confusion_matrix\n",
    "from sklearn import svm\n",
    "from sklearn.svm import SVC\n",
    "from glob import glob\n",
    "import os\n",
    "from PIL import Image\n",
    "from skimage import io\n",
    "import scipy"
   ]
  },
  {
   "cell_type": "code",
   "execution_count": 25,
   "metadata": {},
   "outputs": [],
   "source": [
    "labels_test = pd.read_csv('test-calibrated-shuffled.txt',delimiter = ' ',header = None, names = ['filename','label'])\n",
    "labels_train = pd.read_csv('train-calibrated-shuffled.txt',delimiter = ' ',header = None, names = ['filename','label'])\n",
    "\n",
    "labels = labels_test.append(labels_train)\n",
    "df = labels[labels['label']==8]\n",
    "df = df.append(labels[labels['label']==9])"
   ]
  },
  {
   "cell_type": "code",
   "execution_count": 118,
   "metadata": {},
   "outputs": [],
   "source": [
    "train_labels = labels_train['label']\n",
    "test_labels = labels_test['label']"
   ]
  },
  {
   "cell_type": "code",
   "execution_count": 27,
   "metadata": {},
   "outputs": [],
   "source": [
    "labels_test = labels_test[(labels_test.label == 8) | (labels_test.label == 9)]\n",
    "labels_train = labels_train[(labels_train.label == 8) |  (labels_train.label == 9)]"
   ]
  },
  {
   "cell_type": "code",
   "execution_count": 125,
   "metadata": {},
   "outputs": [],
   "source": [
    "def img_to_vec(df):\n",
    "    img_test = []\n",
    "    for f_name in df[\"filename\"]:\n",
    "        img = Image.open(f_name)\n",
    "        img = img.convert('L')\n",
    "        img_arr = np.array(img)\n",
    "    \n",
    "        img_arr = img_arr[:121, :255]\n",
    "        \n",
    "        flat_arr = img_arr.flatten()\n",
    "    \n",
    "        img_test.append(flat_arr)\n",
    "    img_test = np.array(img_test)\n",
    "    return img_test"
   ]
  },
  {
   "cell_type": "code",
   "execution_count": 126,
   "metadata": {},
   "outputs": [],
   "source": [
    "test_vectors = img_to_vec(labels_test)"
   ]
  },
  {
   "cell_type": "code",
   "execution_count": 112,
   "metadata": {
    "scrolled": false
   },
   "outputs": [],
   "source": [
    "train_vectors = img_to_vec(labels_train)"
   ]
  },
  {
   "cell_type": "code",
   "execution_count": 117,
   "metadata": {},
   "outputs": [
    {
     "data": {
      "text/plain": [
       "SVC(C=10, kernel='linear')"
      ]
     },
     "execution_count": 117,
     "metadata": {},
     "output_type": "execute_result"
    }
   ],
   "source": [
    "clf = svm.SVC(kernel=\"linear\", C=10)\n",
    "clf.fit(train_vectors, train_labels)"
   ]
  },
  {
   "cell_type": "code",
   "execution_count": 128,
   "metadata": {},
   "outputs": [],
   "source": [
    "predicted_labels = clf.predict(test_vectors)"
   ]
  },
  {
   "cell_type": "code",
   "execution_count": 130,
   "metadata": {},
   "outputs": [
    {
     "name": "stdout",
     "output_type": "stream",
     "text": [
      "              precision    recall  f1-score   support\n",
      "\n",
      "           8       0.90      0.75      0.82       254\n",
      "           9       0.45      0.72      0.55        72\n",
      "\n",
      "    accuracy                           0.74       326\n",
      "   macro avg       0.68      0.74      0.69       326\n",
      "weighted avg       0.80      0.74      0.76       326\n",
      "\n",
      "[[190  64]\n",
      " [ 20  52]]\n"
     ]
    }
   ],
   "source": [
    "print(classification_report(test_labels, predicted_labels))\n",
    "print(confusion_matrix(test_labels, predicted_labels))"
   ]
  }
 ],
 "metadata": {
  "kernelspec": {
   "display_name": "Python 3",
   "language": "python",
   "name": "python3"
  },
  "language_info": {
   "codemirror_mode": {
    "name": "ipython",
    "version": 3
   },
   "file_extension": ".py",
   "mimetype": "text/x-python",
   "name": "python",
   "nbconvert_exporter": "python",
   "pygments_lexer": "ipython3",
   "version": "3.8.3"
  }
 },
 "nbformat": 4,
 "nbformat_minor": 4
}
