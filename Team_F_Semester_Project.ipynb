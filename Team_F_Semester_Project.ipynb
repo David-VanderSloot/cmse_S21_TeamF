{
 "cells": [
  {
   "cell_type": "markdown",
   "metadata": {},
   "source": [
    "# Team F Semester Project"
   ]
  },
  {
   "cell_type": "markdown",
   "metadata": {},
   "source": [
    "This will be a description of project."
   ]
  },
  {
   "cell_type": "code",
   "execution_count": null,
   "metadata": {},
   "outputs": [],
   "source": [
    "%matplotlib inline                 \n",
    "import matplotlib.pyplot as plt\n",
    "import numpy as np\n",
    "import math\n",
    "import pandas as pd\n",
    "\n",
    "labels_test = pd.read_csv('test-calibrated-shuffled.txt',delimiter = ' ',header = None, names = ['filename','label'])\n",
    "labels_train = pd.read_csv('train-calibrated-shuffled.txt',delimiter = ' ',header = None, names = ['filename','label'])\n",
    "\n",
    "labels = labels_test.append(labels_train)\n",
    "df = labels[labels['label']==8]\n",
    "df = df.append(labels[labels['label']==9])\n",
    "\n",
    "im = plt.imread('0003ML0000000110100031E01_DRCL.JPG')\n",
    "plt.imshow(im)"
   ]
  },
  {
   "cell_type": "code",
   "execution_count": null,
   "metadata": {},
   "outputs": [],
   "source": [
    "    param_grid = {'C': [1e3, 5e3, 1e4],\n",
    "                  'gamma': [0.0001, 0.0005, 0.001, 0.005, 0.01]}\n",
    "    clf = GridSearchCV(SVC(kernel='rbf', class_weight='balanced'), param_grid, n_jobs=-1)\n",
    "    clf = clf.fit(img_test, labels_test)\n",
    "    print(clf.best_estimator_)"
   ]
  }
 ],
 "metadata": {
  "kernelspec": {
   "display_name": "Python 3",
   "language": "python",
   "name": "python3"
  },
  "language_info": {
   "codemirror_mode": {
    "name": "ipython",
    "version": 3
   },
   "file_extension": ".py",
   "mimetype": "text/x-python",
   "name": "python",
   "nbconvert_exporter": "python",
   "pygments_lexer": "ipython3",
   "version": "3.8.3"
  }
 },
 "nbformat": 4,
 "nbformat_minor": 4
}
